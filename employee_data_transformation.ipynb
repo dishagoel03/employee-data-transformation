{
 "cells": [
  {
   "cell_type": "code",
   "execution_count": 1,
   "id": "32052641-3623-4013-8cd7-d88dcdeebc65",
   "metadata": {},
   "outputs": [],
   "source": [
    "# Installing the required libraries\n",
    "import pandas as pd\n",
    "from datetime import datetime, timedelta\n",
    "\n",
    "# Function to fill missing data in a column with the previous value\n",
    "def fill_missing_data(row, column, prev_value):\n",
    "    if pd.isnull(row[column]):\n",
    "        return prev_value\n",
    "    return row[column]\n",
    "\n",
    "# Function to derive effective date and end date for a historical record\n",
    "def derive_dates(start_date, end_date):\n",
    "    if pd.isnull(end_date):\n",
    "        return start_date, \"2100-01-01\"\n",
    "    else:\n",
    "        start_date = datetime.strptime(start_date, \"%Y-%m-%d\")\n",
    "        end_date = datetime.strptime(end_date, \"%Y-%m-%d\")\n",
    "        return start_date.strftime(\"%Y-%m-%d\"), (end_date - timedelta(days=1)).strftime(\"%Y-%m-%d\")\n",
    "\n",
    "# Reading input CSV file (input.csv)\n",
    "input_file = \"input.csv\"\n",
    "data = pd.read_csv(input_file)\n",
    "\n",
    "# Creating an empty list to store transformed data\n",
    "transformed_data = []\n",
    "\n",
    "for index, row in data.iterrows():   # Processing each row of the input data\n",
    "    # Extract employee information\n",
    "    employee_code = row[\"Employee Code\"]\n",
    "    manager_employee_code = row[\"Manager Employee Code\"]\n",
    "    start_date = row[\"Date of Joining\"]\n",
    "    end_date = row[\"Date of Exit\"]\n",
    "    last_compensation = None\n",
    "    last_pay_raise_date = None\n",
    "    \n",
    "    for i in range(1, 3):   # Iterating over each compensation, review, and engagement data\n",
    "        # Filling missing data and deriving the effective dates\n",
    "        compensation = fill_missing_data(row, f\"Compensation {i}\", last_compensation)\n",
    "        compensation_date = fill_missing_data(row, f\"Compensation {i} date\", last_pay_raise_date)\n",
    "        review = fill_missing_data(row, f\"Review {i}\", None)\n",
    "        review_date = fill_missing_data(row, f\"Review {i} date\", None)\n",
    "        engagement = fill_missing_data(row, f\"Engagement {i}\", None)\n",
    "        engagement_date = fill_missing_data(row, f\"Engagement {i} date\", None)\n",
    "        \n",
    "        # Deriving effective date and end date\n",
    "        effective_date, end_date = derive_dates(start_date, end_date)\n",
    "        \n",
    "        # Appending transformed data to the list\n",
    "        transformed_data.append([\n",
    "            employee_code, manager_employee_code, last_compensation, compensation, last_pay_raise_date,\n",
    "            0,  # Assuming 'Variable Pay' is not provided in the input data\n",
    "            0,  # Assuming 'Tenure in Org' is not provided in the input data\n",
    "            review, review_date, engagement, engagement_date, effective_date, end_date\n",
    "        ])\n",
    "        \n",
    "        # Updating the last compensation and last pay raise date for the next iteration\n",
    "        last_compensation = compensation\n",
    "        last_pay_raise_date = compensation_date\n",
    "\n",
    "# Creating a DataFrame from the transformed data\n",
    "transformed_df = pd.DataFrame(transformed_data, columns=[\n",
    "    \"Employee Code\", \"Manager Employee Code\", \"Last Compensation\", \"Compensation\", \"Last Pay Raise Date\", \"Variable Pay\", \"Tenure in Org\", \"Performance Rating\", \"Review Date\", \"Engagement Score\", \"Engagement Date\", \"Effective Date\", \"End Date\"\n",
    "])\n",
    "\n",
    "# Writing the transformed data to a new CSV file (output.csv)\n",
    "output_file = \"output.csv\"\n",
    "transformed_df.to_csv(output_file, index=False)\n"
   ]
  },
  {
   "cell_type": "code",
   "execution_count": 2,
   "id": "024a62d2-201f-424f-9352-662fe8342f29",
   "metadata": {},
   "outputs": [
    {
     "name": "stdout",
     "output_type": "stream",
     "text": [
      "   Employee Code  Manager Employee Code  Last Compensation  Compensation  \\\n",
      "0              1                    NaN                NaN           NaN   \n",
      "1              1                    NaN                NaN           NaN   \n",
      "2              2                    1.0                NaN       10000.0   \n",
      "3              2                    1.0            10000.0       20000.0   \n",
      "4              3                    1.0                NaN       10000.0   \n",
      "\n",
      "  Last Pay Raise Date  Variable Pay  Tenure in Org  Performance Rating  \\\n",
      "0                 NaN             0              0                 NaN   \n",
      "1                 NaN             0              0                 NaN   \n",
      "2                 NaN             0              0                 9.0   \n",
      "3          2022-01-01             0              0                 9.5   \n",
      "4                 NaN             0              0                 9.0   \n",
      "\n",
      "  Review Date  Engagement Score Engagement Date Effective Date    End Date  \n",
      "0         NaN               NaN             NaN     2021-01-01  2100-01-01  \n",
      "1         NaN               NaN             NaN     2021-01-01  2099-12-31  \n",
      "2  2021-06-01               4.0      2021-03-01     2021-01-01  2100-01-01  \n",
      "3  2022-06-01               5.0      2022-03-01     2021-01-01  2099-12-31  \n",
      "4  2021-06-01               4.0      2021-03-01     2021-01-01  2023-12-30  \n"
     ]
    }
   ],
   "source": [
    "df = pd.read_csv('output.csv')\n",
    "print(df.head())"
   ]
  }
 ],
 "metadata": {
  "kernelspec": {
   "display_name": "Python 3 (ipykernel)",
   "language": "python",
   "name": "python3"
  },
  "language_info": {
   "codemirror_mode": {
    "name": "ipython",
    "version": 3
   },
   "file_extension": ".py",
   "mimetype": "text/x-python",
   "name": "python",
   "nbconvert_exporter": "python",
   "pygments_lexer": "ipython3",
   "version": "3.9.12"
  }
 },
 "nbformat": 4,
 "nbformat_minor": 5
}
